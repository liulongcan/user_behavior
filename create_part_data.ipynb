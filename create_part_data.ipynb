{
 "cells": [
  {
   "cell_type": "markdown",
   "metadata": {},
   "source": [
    "比赛链接：https://tianchi.aliyun.com/dataset/dataDetail?dataId=649&userId=1\n",
    "\n",
    "原始数据太大，有 100,000,000+ 条记录，电脑处理太耗时，因此从其中随机采样，取约 1% 的记录（约 100 万条），做成新的数据集。\n",
    "注意：随机采样的时候，应该抽 1% 用户，组合他们的所有记录，而不是从所有记录中直接抽取 1%，否则会影响分析结果（如平均每人点击率将大幅偏低）。**要反映整体用户的情况，应该对整体用户来抽样，而不是对用户产生的记录（间接数据）来采样。**\n",
    "\n",
    "本项目其他的分析，都依赖于新生成的数据集，因此分析出的结论可能与实际情况不完全相符。"
   ]
  },
  {
   "cell_type": "code",
   "execution_count": 43,
   "metadata": {},
   "outputs": [
    {
     "data": {
      "text/html": [
       "<div>\n",
       "<style scoped>\n",
       "    .dataframe tbody tr th:only-of-type {\n",
       "        vertical-align: middle;\n",
       "    }\n",
       "\n",
       "    .dataframe tbody tr th {\n",
       "        vertical-align: top;\n",
       "    }\n",
       "\n",
       "    .dataframe thead th {\n",
       "        text-align: right;\n",
       "    }\n",
       "</style>\n",
       "<table border=\"1\" class=\"dataframe\">\n",
       "  <thead>\n",
       "    <tr style=\"text-align: right;\">\n",
       "      <th></th>\n",
       "      <th>user_id</th>\n",
       "      <th>product_id</th>\n",
       "      <th>product_category_id</th>\n",
       "      <th>behavior_type</th>\n",
       "      <th>time_stamp</th>\n",
       "    </tr>\n",
       "  </thead>\n",
       "  <tbody>\n",
       "    <tr>\n",
       "      <th>0</th>\n",
       "      <td>1</td>\n",
       "      <td>2333346</td>\n",
       "      <td>2520771</td>\n",
       "      <td>pv</td>\n",
       "      <td>1511561733</td>\n",
       "    </tr>\n",
       "    <tr>\n",
       "      <th>1</th>\n",
       "      <td>1</td>\n",
       "      <td>2576651</td>\n",
       "      <td>149192</td>\n",
       "      <td>pv</td>\n",
       "      <td>1511572885</td>\n",
       "    </tr>\n",
       "    <tr>\n",
       "      <th>2</th>\n",
       "      <td>1</td>\n",
       "      <td>3830808</td>\n",
       "      <td>4181361</td>\n",
       "      <td>pv</td>\n",
       "      <td>1511593493</td>\n",
       "    </tr>\n",
       "    <tr>\n",
       "      <th>3</th>\n",
       "      <td>1</td>\n",
       "      <td>4365585</td>\n",
       "      <td>2520377</td>\n",
       "      <td>pv</td>\n",
       "      <td>1511596146</td>\n",
       "    </tr>\n",
       "    <tr>\n",
       "      <th>4</th>\n",
       "      <td>1</td>\n",
       "      <td>4606018</td>\n",
       "      <td>2735466</td>\n",
       "      <td>pv</td>\n",
       "      <td>1511616481</td>\n",
       "    </tr>\n",
       "  </tbody>\n",
       "</table>\n",
       "</div>"
      ],
      "text/plain": [
       "   user_id  product_id  product_category_id behavior_type  time_stamp\n",
       "0        1     2333346              2520771            pv  1511561733\n",
       "1        1     2576651               149192            pv  1511572885\n",
       "2        1     3830808              4181361            pv  1511593493\n",
       "3        1     4365585              2520377            pv  1511596146\n",
       "4        1     4606018              2735466            pv  1511616481"
      ]
     },
     "execution_count": 43,
     "metadata": {},
     "output_type": "execute_result"
    }
   ],
   "source": [
    "import pandas as pd\n",
    "\n",
    "df = pd.read_csv(\"./data/UserBehavior.csv\")\n",
    "\n",
    "# 原始数据没有列名，此处为数据集添加列名\n",
    "df.columns = [\"user_id\", \"product_id\", \"product_category_id\", \"behavior_type\", \"time_stamp\"]\n",
    "\n",
    "df.head()"
   ]
  },
  {
   "cell_type": "code",
   "execution_count": 53,
   "metadata": {},
   "outputs": [
    {
     "data": {
      "text/html": [
       "<div>\n",
       "<style scoped>\n",
       "    .dataframe tbody tr th:only-of-type {\n",
       "        vertical-align: middle;\n",
       "    }\n",
       "\n",
       "    .dataframe tbody tr th {\n",
       "        vertical-align: top;\n",
       "    }\n",
       "\n",
       "    .dataframe thead th {\n",
       "        text-align: right;\n",
       "    }\n",
       "</style>\n",
       "<table border=\"1\" class=\"dataframe\">\n",
       "  <thead>\n",
       "    <tr style=\"text-align: right;\">\n",
       "      <th></th>\n",
       "      <th>user_id</th>\n",
       "      <th>product_id</th>\n",
       "      <th>product_category_id</th>\n",
       "      <th>behavior_type</th>\n",
       "      <th>time_stamp</th>\n",
       "    </tr>\n",
       "  </thead>\n",
       "  <tbody>\n",
       "    <tr>\n",
       "      <th>19850</th>\n",
       "      <td>1000865</td>\n",
       "      <td>1972416</td>\n",
       "      <td>2667323</td>\n",
       "      <td>pv</td>\n",
       "      <td>1511594748</td>\n",
       "    </tr>\n",
       "    <tr>\n",
       "      <th>19851</th>\n",
       "      <td>1000865</td>\n",
       "      <td>2762748</td>\n",
       "      <td>2667323</td>\n",
       "      <td>pv</td>\n",
       "      <td>1511594817</td>\n",
       "    </tr>\n",
       "    <tr>\n",
       "      <th>19852</th>\n",
       "      <td>1000865</td>\n",
       "      <td>4189981</td>\n",
       "      <td>1108912</td>\n",
       "      <td>pv</td>\n",
       "      <td>1511595033</td>\n",
       "    </tr>\n",
       "    <tr>\n",
       "      <th>19853</th>\n",
       "      <td>1000865</td>\n",
       "      <td>4464941</td>\n",
       "      <td>2096639</td>\n",
       "      <td>pv</td>\n",
       "      <td>1511836506</td>\n",
       "    </tr>\n",
       "    <tr>\n",
       "      <th>19854</th>\n",
       "      <td>1000865</td>\n",
       "      <td>2655774</td>\n",
       "      <td>2096639</td>\n",
       "      <td>pv</td>\n",
       "      <td>1511836700</td>\n",
       "    </tr>\n",
       "  </tbody>\n",
       "</table>\n",
       "</div>"
      ],
      "text/plain": [
       "       user_id  product_id  product_category_id behavior_type  time_stamp\n",
       "19850  1000865     1972416              2667323            pv  1511594748\n",
       "19851  1000865     2762748              2667323            pv  1511594817\n",
       "19852  1000865     4189981              1108912            pv  1511595033\n",
       "19853  1000865     4464941              2096639            pv  1511836506\n",
       "19854  1000865     2655774              2096639            pv  1511836700"
      ]
     },
     "execution_count": 53,
     "metadata": {},
     "output_type": "execute_result"
    }
   ],
   "source": [
    "import numpy as np\n",
    "\n",
    "# 从原始数据结构随机采样，得到 1% 用户的数据\n",
    "unique_user_id_array = df[\"user_id\"].unique()\n",
    "part_user_id = np.random.choice(unique_user_id_array, int(0.01*len(unique_user_id_array)), replace=False) \n",
    "part_df = df[df[\"user_id\"].isin(part_user_id)]\n",
    "\n",
    "part_df.head()"
   ]
  },
  {
   "cell_type": "code",
   "execution_count": 57,
   "metadata": {},
   "outputs": [],
   "source": [
    "# index 取 False 表示在 csv 中不保存行序号\n",
    "part_df.to_csv(\"./data/UserBehavior_part.csv\", index=False)"
   ]
  }
 ],
 "metadata": {
  "interpreter": {
   "hash": "b3ba2566441a7c06988d0923437866b63cedc61552a5af99d1f4fb67d367b25f"
  },
  "kernelspec": {
   "display_name": "Python 3.7.3 64-bit ('base': conda)",
   "language": "python",
   "name": "python3"
  },
  "language_info": {
   "codemirror_mode": {
    "name": "ipython",
    "version": 3
   },
   "file_extension": ".py",
   "mimetype": "text/x-python",
   "name": "python",
   "nbconvert_exporter": "python",
   "pygments_lexer": "ipython3",
   "version": "3.7.3"
  },
  "orig_nbformat": 4
 },
 "nbformat": 4,
 "nbformat_minor": 2
}
