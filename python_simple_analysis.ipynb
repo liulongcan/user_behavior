{
 "cells": [
  {
   "cell_type": "markdown",
   "metadata": {},
   "source": [
    "分析过程参考：https://zhuanlan.zhihu.com/p/103866380"
   ]
  },
  {
   "cell_type": "markdown",
   "metadata": {},
   "source": [
    "## 一、导入数据并清洗"
   ]
  },
  {
   "cell_type": "code",
   "execution_count": 1,
   "metadata": {},
   "outputs": [
    {
     "data": {
      "text/html": [
       "<div>\n",
       "<style scoped>\n",
       "    .dataframe tbody tr th:only-of-type {\n",
       "        vertical-align: middle;\n",
       "    }\n",
       "\n",
       "    .dataframe tbody tr th {\n",
       "        vertical-align: top;\n",
       "    }\n",
       "\n",
       "    .dataframe thead th {\n",
       "        text-align: right;\n",
       "    }\n",
       "</style>\n",
       "<table border=\"1\" class=\"dataframe\">\n",
       "  <thead>\n",
       "    <tr style=\"text-align: right;\">\n",
       "      <th></th>\n",
       "      <th>customer_id</th>\n",
       "      <th>product_id</th>\n",
       "      <th>product_category_id</th>\n",
       "      <th>behavior_type</th>\n",
       "      <th>time_stamp</th>\n",
       "    </tr>\n",
       "  </thead>\n",
       "  <tbody>\n",
       "    <tr>\n",
       "      <th>0</th>\n",
       "      <td>726027</td>\n",
       "      <td>1376740</td>\n",
       "      <td>2892802</td>\n",
       "      <td>pv</td>\n",
       "      <td>1512224887</td>\n",
       "    </tr>\n",
       "    <tr>\n",
       "      <th>1</th>\n",
       "      <td>489422</td>\n",
       "      <td>3911911</td>\n",
       "      <td>1265358</td>\n",
       "      <td>pv</td>\n",
       "      <td>1511958690</td>\n",
       "    </tr>\n",
       "    <tr>\n",
       "      <th>2</th>\n",
       "      <td>649519</td>\n",
       "      <td>1721829</td>\n",
       "      <td>2440115</td>\n",
       "      <td>pv</td>\n",
       "      <td>1512110279</td>\n",
       "    </tr>\n",
       "    <tr>\n",
       "      <th>3</th>\n",
       "      <td>556136</td>\n",
       "      <td>4152590</td>\n",
       "      <td>903809</td>\n",
       "      <td>pv</td>\n",
       "      <td>1511747452</td>\n",
       "    </tr>\n",
       "    <tr>\n",
       "      <th>4</th>\n",
       "      <td>1009769</td>\n",
       "      <td>3227805</td>\n",
       "      <td>4719814</td>\n",
       "      <td>pv</td>\n",
       "      <td>1511695257</td>\n",
       "    </tr>\n",
       "  </tbody>\n",
       "</table>\n",
       "</div>"
      ],
      "text/plain": [
       "   customer_id  product_id  product_category_id behavior_type  time_stamp\n",
       "0       726027     1376740              2892802            pv  1512224887\n",
       "1       489422     3911911              1265358            pv  1511958690\n",
       "2       649519     1721829              2440115            pv  1512110279\n",
       "3       556136     4152590               903809            pv  1511747452\n",
       "4      1009769     3227805              4719814            pv  1511695257"
      ]
     },
     "execution_count": 1,
     "metadata": {},
     "output_type": "execute_result"
    }
   ],
   "source": [
    "import pandas as pd\n",
    "\n",
    "df = pd.read_csv(\"./data/UserBehavior_part.csv\")\n",
    "df.head()"
   ]
  },
  {
   "cell_type": "code",
   "execution_count": 2,
   "metadata": {},
   "outputs": [
    {
     "data": {
      "text/plain": [
       "1000000"
      ]
     },
     "execution_count": 2,
     "metadata": {},
     "output_type": "execute_result"
    }
   ],
   "source": [
    "# 查看数据长度\n",
    "len(df)"
   ]
  },
  {
   "cell_type": "code",
   "execution_count": 3,
   "metadata": {},
   "outputs": [
    {
     "data": {
      "text/plain": [
       "customer_id            1000000\n",
       "product_id             1000000\n",
       "product_category_id    1000000\n",
       "behavior_type          1000000\n",
       "time_stamp             1000000\n",
       "dtype: int64"
      ]
     },
     "execution_count": 3,
     "metadata": {},
     "output_type": "execute_result"
    }
   ],
   "source": [
    "# 查看各列的长度，看是否有缺失\n",
    "df.count()"
   ]
  },
  {
   "cell_type": "code",
   "execution_count": 4,
   "metadata": {},
   "outputs": [
    {
     "data": {
      "text/plain": [
       "customer_id            1000000\n",
       "product_id             1000000\n",
       "product_category_id    1000000\n",
       "behavior_type          1000000\n",
       "time_stamp             1000000\n",
       "dtype: int64"
      ]
     },
     "execution_count": 4,
     "metadata": {},
     "output_type": "execute_result"
    }
   ],
   "source": [
    "# 删除其中的重复行，再次查看长度\n",
    "df.drop_duplicates(inplace=True)\n",
    "df.count()"
   ]
  },
  {
   "cell_type": "code",
   "execution_count": 5,
   "metadata": {},
   "outputs": [
    {
     "data": {
      "text/html": [
       "<div>\n",
       "<style scoped>\n",
       "    .dataframe tbody tr th:only-of-type {\n",
       "        vertical-align: middle;\n",
       "    }\n",
       "\n",
       "    .dataframe tbody tr th {\n",
       "        vertical-align: top;\n",
       "    }\n",
       "\n",
       "    .dataframe thead th {\n",
       "        text-align: right;\n",
       "    }\n",
       "</style>\n",
       "<table border=\"1\" class=\"dataframe\">\n",
       "  <thead>\n",
       "    <tr style=\"text-align: right;\">\n",
       "      <th></th>\n",
       "      <th>customer_id</th>\n",
       "      <th>product_id</th>\n",
       "      <th>product_category_id</th>\n",
       "      <th>behavior_type</th>\n",
       "      <th>date</th>\n",
       "      <th>time</th>\n",
       "    </tr>\n",
       "  </thead>\n",
       "  <tbody>\n",
       "    <tr>\n",
       "      <th>0</th>\n",
       "      <td>726027</td>\n",
       "      <td>1376740</td>\n",
       "      <td>2892802</td>\n",
       "      <td>pv</td>\n",
       "      <td>2017-12-02</td>\n",
       "      <td>14:28:07</td>\n",
       "    </tr>\n",
       "    <tr>\n",
       "      <th>1</th>\n",
       "      <td>489422</td>\n",
       "      <td>3911911</td>\n",
       "      <td>1265358</td>\n",
       "      <td>pv</td>\n",
       "      <td>2017-11-29</td>\n",
       "      <td>12:31:30</td>\n",
       "    </tr>\n",
       "    <tr>\n",
       "      <th>2</th>\n",
       "      <td>649519</td>\n",
       "      <td>1721829</td>\n",
       "      <td>2440115</td>\n",
       "      <td>pv</td>\n",
       "      <td>2017-12-01</td>\n",
       "      <td>06:37:59</td>\n",
       "    </tr>\n",
       "    <tr>\n",
       "      <th>3</th>\n",
       "      <td>556136</td>\n",
       "      <td>4152590</td>\n",
       "      <td>903809</td>\n",
       "      <td>pv</td>\n",
       "      <td>2017-11-27</td>\n",
       "      <td>01:50:52</td>\n",
       "    </tr>\n",
       "    <tr>\n",
       "      <th>4</th>\n",
       "      <td>1009769</td>\n",
       "      <td>3227805</td>\n",
       "      <td>4719814</td>\n",
       "      <td>pv</td>\n",
       "      <td>2017-11-26</td>\n",
       "      <td>11:20:57</td>\n",
       "    </tr>\n",
       "  </tbody>\n",
       "</table>\n",
       "</div>"
      ],
      "text/plain": [
       "   customer_id  product_id  product_category_id behavior_type        date  \\\n",
       "0       726027     1376740              2892802            pv  2017-12-02   \n",
       "1       489422     3911911              1265358            pv  2017-11-29   \n",
       "2       649519     1721829              2440115            pv  2017-12-01   \n",
       "3       556136     4152590               903809            pv  2017-11-27   \n",
       "4      1009769     3227805              4719814            pv  2017-11-26   \n",
       "\n",
       "       time  \n",
       "0  14:28:07  \n",
       "1  12:31:30  \n",
       "2  06:37:59  \n",
       "3  01:50:52  \n",
       "4  11:20:57  "
      ]
     },
     "execution_count": 5,
     "metadata": {},
     "output_type": "execute_result"
    }
   ],
   "source": [
    "# 对时间戳进行处理，转换为标准的时间格式\n",
    "df[\"time_stamp\"] = pd.to_datetime(df[\"time_stamp\"], unit=\"s\")\n",
    "\n",
    "# 对时间与日期进行拆分\n",
    "df.insert(loc=df.shape[1], column=\"date\", value=df[\"time_stamp\"].dt.date)\n",
    "df.insert(loc=df.shape[1], column=\"time\", value=df[\"time_stamp\"].dt.time)\n",
    "df.drop(labels=\"time_stamp\", axis=1, inplace=True)\n",
    "\n",
    "df.head()"
   ]
  },
  {
   "cell_type": "code",
   "execution_count": 6,
   "metadata": {},
   "outputs": [
    {
     "data": {
      "text/plain": [
       "987856"
      ]
     },
     "execution_count": 6,
     "metadata": {},
     "output_type": "execute_result"
    }
   ],
   "source": [
    "# 由于数据分析需要从时间 17-11-25 至 17-12-03 之间，因此需要剔除不符合这时间跨度的数据\n",
    "from datetime import datetime\n",
    "\n",
    "start_date = datetime.strptime(\"20171125\", \"%Y%m%d\").date()\n",
    "end_date = datetime.strptime(\"20171203\", \"%Y%m%d\").date()\n",
    "\n",
    "df = df[(df[\"date\"]>=start_date) & (df[\"date\"]<=end_date)]\n",
    "\n",
    "len(df)"
   ]
  },
  {
   "cell_type": "markdown",
   "metadata": {},
   "source": [
    "## 二、对数据进行统计分析"
   ]
  },
  {
   "cell_type": "markdown",
   "metadata": {},
   "source": [
    "# 2.1 观察各类行为的数量及比例"
   ]
  },
  {
   "cell_type": "code",
   "execution_count": 7,
   "metadata": {},
   "outputs": [
    {
     "data": {
      "text/html": [
       "<div>\n",
       "<style scoped>\n",
       "    .dataframe tbody tr th:only-of-type {\n",
       "        vertical-align: middle;\n",
       "    }\n",
       "\n",
       "    .dataframe tbody tr th {\n",
       "        vertical-align: top;\n",
       "    }\n",
       "\n",
       "    .dataframe thead th {\n",
       "        text-align: right;\n",
       "    }\n",
       "</style>\n",
       "<table border=\"1\" class=\"dataframe\">\n",
       "  <thead>\n",
       "    <tr style=\"text-align: right;\">\n",
       "      <th></th>\n",
       "      <th>count</th>\n",
       "      <th>ratio</th>\n",
       "    </tr>\n",
       "    <tr>\n",
       "      <th>behavior_type</th>\n",
       "      <th></th>\n",
       "      <th></th>\n",
       "    </tr>\n",
       "  </thead>\n",
       "  <tbody>\n",
       "    <tr>\n",
       "      <th>buy</th>\n",
       "      <td>20083</td>\n",
       "      <td>0.020330</td>\n",
       "    </tr>\n",
       "    <tr>\n",
       "      <th>cart</th>\n",
       "      <td>54555</td>\n",
       "      <td>0.055226</td>\n",
       "    </tr>\n",
       "    <tr>\n",
       "      <th>fav</th>\n",
       "      <td>28200</td>\n",
       "      <td>0.028547</td>\n",
       "    </tr>\n",
       "    <tr>\n",
       "      <th>pv</th>\n",
       "      <td>885018</td>\n",
       "      <td>0.895898</td>\n",
       "    </tr>\n",
       "  </tbody>\n",
       "</table>\n",
       "</div>"
      ],
      "text/plain": [
       "                count     ratio\n",
       "behavior_type                  \n",
       "buy             20083  0.020330\n",
       "cart            54555  0.055226\n",
       "fav             28200  0.028547\n",
       "pv             885018  0.895898"
      ]
     },
     "execution_count": 7,
     "metadata": {},
     "output_type": "execute_result"
    }
   ],
   "source": [
    "# 分析各类用户行为的数量，包括 pv=点击、buy=购买、cart=加车、fav=收藏\n",
    "behavior_df = df.groupby(\"behavior_type\").count()[\"customer_id\"].to_frame()  # 将 Series 转化为 DataFrame，才能使用下面的 insert 方法\n",
    "behavior_df.columns = [\"count\"]\n",
    "behavior_df.insert(loc=behavior_df.shape[1], column=\"ratio\", value=behavior_df[\"count\"].div(len(df)))\n",
    "\n",
    "behavior_df"
   ]
  },
  {
   "cell_type": "markdown",
   "metadata": {},
   "source": [
    "结论：从结果可见，将近 9 成的用户仅进行了点击，仅有 2% 的行为为购买。由此可以得出商品的点击转化率较低（点击转化率=购买客户数/点击（访问）客户数），主要原因可能是淘宝的推荐机制不够完善。"
   ]
  },
  {
   "cell_type": "markdown",
   "metadata": {},
   "source": [
    "# 2.2 观察各类行为对应最多的 5 件商品"
   ]
  },
  {
   "cell_type": "code",
   "execution_count": 8,
   "metadata": {},
   "outputs": [
    {
     "data": {
      "text/html": [
       "<div>\n",
       "<style scoped>\n",
       "    .dataframe tbody tr th:only-of-type {\n",
       "        vertical-align: middle;\n",
       "    }\n",
       "\n",
       "    .dataframe tbody tr th {\n",
       "        vertical-align: top;\n",
       "    }\n",
       "\n",
       "    .dataframe thead th {\n",
       "        text-align: right;\n",
       "    }\n",
       "</style>\n",
       "<table border=\"1\" class=\"dataframe\">\n",
       "  <thead>\n",
       "    <tr style=\"text-align: right;\">\n",
       "      <th></th>\n",
       "      <th>count</th>\n",
       "    </tr>\n",
       "    <tr>\n",
       "      <th>product_category_id</th>\n",
       "      <th></th>\n",
       "    </tr>\n",
       "  </thead>\n",
       "  <tbody>\n",
       "    <tr>\n",
       "      <th>4756105</th>\n",
       "      <td>44240</td>\n",
       "    </tr>\n",
       "    <tr>\n",
       "      <th>2355072</th>\n",
       "      <td>31307</td>\n",
       "    </tr>\n",
       "    <tr>\n",
       "      <th>4145813</th>\n",
       "      <td>30992</td>\n",
       "    </tr>\n",
       "    <tr>\n",
       "      <th>3607361</th>\n",
       "      <td>29253</td>\n",
       "    </tr>\n",
       "    <tr>\n",
       "      <th>982926</th>\n",
       "      <td>27725</td>\n",
       "    </tr>\n",
       "  </tbody>\n",
       "</table>\n",
       "</div>"
      ],
      "text/plain": [
       "                     count\n",
       "product_category_id       \n",
       "4756105              44240\n",
       "2355072              31307\n",
       "4145813              30992\n",
       "3607361              29253\n",
       "982926               27725"
      ]
     },
     "execution_count": 8,
     "metadata": {},
     "output_type": "execute_result"
    }
   ],
   "source": [
    "# 观察点击量最多的 5 个商品类目\n",
    "pv_df = df[df[\"behavior_type\"]==\"pv\"].groupby(\"product_category_id\").count()[\"customer_id\"].to_frame()\n",
    "pv_df.columns = [\"count\"]\n",
    "pv_df.sort_values(\"count\", inplace=True, ascending=False)  # 降序排列\n",
    "\n",
    "pv_df.head()"
   ]
  },
  {
   "cell_type": "code",
   "execution_count": 9,
   "metadata": {},
   "outputs": [
    {
     "data": {
      "text/html": [
       "<div>\n",
       "<style scoped>\n",
       "    .dataframe tbody tr th:only-of-type {\n",
       "        vertical-align: middle;\n",
       "    }\n",
       "\n",
       "    .dataframe tbody tr th {\n",
       "        vertical-align: top;\n",
       "    }\n",
       "\n",
       "    .dataframe thead th {\n",
       "        text-align: right;\n",
       "    }\n",
       "</style>\n",
       "<table border=\"1\" class=\"dataframe\">\n",
       "  <thead>\n",
       "    <tr style=\"text-align: right;\">\n",
       "      <th></th>\n",
       "      <th>count</th>\n",
       "    </tr>\n",
       "    <tr>\n",
       "      <th>product_category_id</th>\n",
       "      <th></th>\n",
       "    </tr>\n",
       "  </thead>\n",
       "  <tbody>\n",
       "    <tr>\n",
       "      <th>1464116</th>\n",
       "      <td>337</td>\n",
       "    </tr>\n",
       "    <tr>\n",
       "      <th>2735466</th>\n",
       "      <td>320</td>\n",
       "    </tr>\n",
       "    <tr>\n",
       "      <th>4756105</th>\n",
       "      <td>301</td>\n",
       "    </tr>\n",
       "    <tr>\n",
       "      <th>2885642</th>\n",
       "      <td>299</td>\n",
       "    </tr>\n",
       "    <tr>\n",
       "      <th>4145813</th>\n",
       "      <td>288</td>\n",
       "    </tr>\n",
       "  </tbody>\n",
       "</table>\n",
       "</div>"
      ],
      "text/plain": [
       "                     count\n",
       "product_category_id       \n",
       "1464116                337\n",
       "2735466                320\n",
       "4756105                301\n",
       "2885642                299\n",
       "4145813                288"
      ]
     },
     "execution_count": 9,
     "metadata": {},
     "output_type": "execute_result"
    }
   ],
   "source": [
    "# 观察购买量最多的 5 个商品类目\n",
    "buy_df = df[df[\"behavior_type\"]==\"buy\"].groupby(\"product_category_id\").count()[\"customer_id\"].to_frame()\n",
    "buy_df.columns = [\"count\"]\n",
    "buy_df.sort_values(\"count\", inplace=True, ascending=False)  # 降序排列\n",
    "\n",
    "buy_df.head()"
   ]
  },
  {
   "cell_type": "code",
   "execution_count": 10,
   "metadata": {},
   "outputs": [
    {
     "data": {
      "text/html": [
       "<div>\n",
       "<style scoped>\n",
       "    .dataframe tbody tr th:only-of-type {\n",
       "        vertical-align: middle;\n",
       "    }\n",
       "\n",
       "    .dataframe tbody tr th {\n",
       "        vertical-align: top;\n",
       "    }\n",
       "\n",
       "    .dataframe thead th {\n",
       "        text-align: right;\n",
       "    }\n",
       "</style>\n",
       "<table border=\"1\" class=\"dataframe\">\n",
       "  <thead>\n",
       "    <tr style=\"text-align: right;\">\n",
       "      <th></th>\n",
       "      <th>count</th>\n",
       "    </tr>\n",
       "    <tr>\n",
       "      <th>product_category_id</th>\n",
       "      <th></th>\n",
       "    </tr>\n",
       "  </thead>\n",
       "  <tbody>\n",
       "    <tr>\n",
       "      <th>4756105</th>\n",
       "      <td>2209</td>\n",
       "    </tr>\n",
       "    <tr>\n",
       "      <th>4145813</th>\n",
       "      <td>1770</td>\n",
       "    </tr>\n",
       "    <tr>\n",
       "      <th>982926</th>\n",
       "      <td>1543</td>\n",
       "    </tr>\n",
       "    <tr>\n",
       "      <th>4801426</th>\n",
       "      <td>1305</td>\n",
       "    </tr>\n",
       "    <tr>\n",
       "      <th>2355072</th>\n",
       "      <td>1144</td>\n",
       "    </tr>\n",
       "  </tbody>\n",
       "</table>\n",
       "</div>"
      ],
      "text/plain": [
       "                     count\n",
       "product_category_id       \n",
       "4756105               2209\n",
       "4145813               1770\n",
       "982926                1543\n",
       "4801426               1305\n",
       "2355072               1144"
      ]
     },
     "execution_count": 10,
     "metadata": {},
     "output_type": "execute_result"
    }
   ],
   "source": [
    "# 观察加车量最多的 5 个商品类目\n",
    "cart_df = df[df[\"behavior_type\"]==\"cart\"].groupby(\"product_category_id\").count()[\"customer_id\"].to_frame()\n",
    "cart_df.columns = [\"count\"]\n",
    "cart_df.sort_values(\"count\", inplace=True, ascending=False)  # 降序排列\n",
    "\n",
    "cart_df.head()"
   ]
  },
  {
   "cell_type": "code",
   "execution_count": 11,
   "metadata": {},
   "outputs": [
    {
     "data": {
      "text/html": [
       "<div>\n",
       "<style scoped>\n",
       "    .dataframe tbody tr th:only-of-type {\n",
       "        vertical-align: middle;\n",
       "    }\n",
       "\n",
       "    .dataframe tbody tr th {\n",
       "        vertical-align: top;\n",
       "    }\n",
       "\n",
       "    .dataframe thead th {\n",
       "        text-align: right;\n",
       "    }\n",
       "</style>\n",
       "<table border=\"1\" class=\"dataframe\">\n",
       "  <thead>\n",
       "    <tr style=\"text-align: right;\">\n",
       "      <th></th>\n",
       "      <th>count</th>\n",
       "    </tr>\n",
       "    <tr>\n",
       "      <th>product_category_id</th>\n",
       "      <th></th>\n",
       "    </tr>\n",
       "  </thead>\n",
       "  <tbody>\n",
       "    <tr>\n",
       "      <th>4756105</th>\n",
       "      <td>1384</td>\n",
       "    </tr>\n",
       "    <tr>\n",
       "      <th>4145813</th>\n",
       "      <td>1054</td>\n",
       "    </tr>\n",
       "    <tr>\n",
       "      <th>982926</th>\n",
       "      <td>887</td>\n",
       "    </tr>\n",
       "    <tr>\n",
       "      <th>2355072</th>\n",
       "      <td>882</td>\n",
       "    </tr>\n",
       "    <tr>\n",
       "      <th>3607361</th>\n",
       "      <td>737</td>\n",
       "    </tr>\n",
       "  </tbody>\n",
       "</table>\n",
       "</div>"
      ],
      "text/plain": [
       "                     count\n",
       "product_category_id       \n",
       "4756105               1384\n",
       "4145813               1054\n",
       "982926                 887\n",
       "2355072                882\n",
       "3607361                737"
      ]
     },
     "execution_count": 11,
     "metadata": {},
     "output_type": "execute_result"
    }
   ],
   "source": [
    "# 观察收藏量最多的 5 个商品类目\n",
    "fav_df = df[df[\"behavior_type\"]==\"fav\"].groupby(\"product_category_id\").count()[\"customer_id\"].to_frame()\n",
    "fav_df.columns = [\"count\"]\n",
    "fav_df.sort_values(\"count\", inplace=True, ascending=False)  # 降序排列\n",
    "\n",
    "fav_df.head()"
   ]
  },
  {
   "cell_type": "markdown",
   "metadata": {},
   "source": [
    "结论：从上述统计结果来看，点击量最多的 5 类商品中：有 4 类存在于 5 类加车最多的商品类目中；且该 5 类刚好全部都是收藏最多的商品类目；但是其中只有 2 类存在于 5 类最多购买的商品类目中。说明，适当地增加商品的曝光率（点击数），有利于增加用户的购买欲望（收藏、加车），但是不一定能促进最终的购买行为（也可能只是因为点击到购买之间的时间滞后导致的），可能淘宝的推荐并没有符合用户的预期。"
   ]
  }
 ],
 "metadata": {
  "interpreter": {
   "hash": "b3ba2566441a7c06988d0923437866b63cedc61552a5af99d1f4fb67d367b25f"
  },
  "kernelspec": {
   "display_name": "Python 3.7.3 64-bit ('base': conda)",
   "language": "python",
   "name": "python3"
  },
  "language_info": {
   "codemirror_mode": {
    "name": "ipython",
    "version": 3
   },
   "file_extension": ".py",
   "mimetype": "text/x-python",
   "name": "python",
   "nbconvert_exporter": "python",
   "pygments_lexer": "ipython3",
   "version": "3.7.3"
  },
  "orig_nbformat": 4
 },
 "nbformat": 4,
 "nbformat_minor": 2
}
